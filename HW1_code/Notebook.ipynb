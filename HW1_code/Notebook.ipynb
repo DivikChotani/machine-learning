{
 "cells": [
  {
   "cell_type": "code",
   "execution_count": 28,
   "id": "0a0b1697",
   "metadata": {},
   "outputs": [
    {
     "name": "stdout",
     "output_type": "stream",
     "text": [
      "The autoreload extension is already loaded. To reload it, use:\n",
      "  %reload_ext autoreload\n"
     ]
    }
   ],
   "source": [
    "import numpy as np\n",
    "import matplotlib.pyplot as plt\n",
    "import random\n",
    "import csv\n",
    "from utils import mnist_reader\n",
    "from utils.data_load import load\n",
    "import codes\n",
    "# Load matplotlib images inline\n",
    "%matplotlib inline\n",
    "# These are important for reloading any code you write in external .py files.\n",
    "# see http://stackoverflow.com/questions/1907993/autoreload-of-modules-in-ipython\n",
    "%load_ext autoreload\n",
    "%autoreload 2"
   ]
  },
  {
   "cell_type": "markdown",
   "id": "7b600c97",
   "metadata": {},
   "source": [
    "# Problem 4: Binary Classification\n",
    "\n",
    "Please follow our instructions in the same order to solve the binary classification problem.\n",
    "Please print out the entire results and codes when completed."
   ]
  },
  {
   "cell_type": "code",
   "execution_count": 29,
   "id": "f8738d96",
   "metadata": {},
   "outputs": [
    {
     "name": "stdout",
     "output_type": "stream",
     "text": [
      "Train data shape:  (5000, 784)\n",
      "Train target shape:  (5000, 1)\n",
      "Test data shape:  (500, 784)\n",
      "Test target shape:  (500, 1)\n"
     ]
    }
   ],
   "source": [
    "#X_train, y_train = mnist_reader.load_mnist('fashion-mnist/data/fashion', kind='train')\n",
    "#X_test, y_test = mnist_reader.load_mnist('fashion-mnist/data/fashion', kind='t10k')\n",
    "\n",
    "X_train = np.load('./data/binary_classification/X_train.npy')\n",
    "y_train = np.load('./data/binary_classification/y_train.npy')\n",
    "X_test = np.load('./data/binary_classification/X_test.npy')\n",
    "y_test = np.load('./data/binary_classification/y_test.npy')\n",
    "\n",
    "print('Train data shape: ', X_train.shape)\n",
    "print('Train target shape: ', y_train.shape)\n",
    "print('Test data shape: ',X_test.shape)\n",
    "print('Test target shape: ',y_test.shape)"
   ]
  },
  {
   "cell_type": "code",
   "execution_count": 12,
   "id": "ac8d87ac",
   "metadata": {
    "scrolled": true
   },
   "outputs": [
    {
     "data": {
      "image/png": "[encoded data removed]",
      "text/plain": [
       "<Figure size 640x480 with 1 Axes>"
      ]
     },
     "metadata": {},
     "output_type": "display_data"
    },
    {
     "name": "stdout",
     "output_type": "stream",
     "text": [
      "[-1]\n",
      "label is Shirt\n"
     ]
    }
   ],
   "source": [
    "# PART (a): \n",
    "# To Visualize a point in the dataset\n",
    "index = 11\n",
    "X = np.array(X_train[index], dtype='uint8')\n",
    "X = X.reshape((28, 28))\n",
    "fig = plt.figure()\n",
    "plt.imshow(X, cmap='gray')\n",
    "plt.show()\n",
    "if y_train[index] == 1:\n",
    "    label = 'Dress'\n",
    "else:\n",
    "    print(y_train[index])\n",
    "    label = 'Shirt'\n",
    "print('label is', label)"
   ]
  },
  {
   "cell_type": "markdown",
   "id": "0b25ec28",
   "metadata": {},
   "source": [
    "## Train Perceptron\n",
    "In the following cells, you will build Perceptron Algorithm."
   ]
  },
  {
   "cell_type": "code",
   "execution_count": 26,
   "id": "179b3de7",
   "metadata": {},
   "outputs": [
    {
     "data": {
      "image/png": "[encoded data removed]",
      "text/plain": [
       "<Figure size 640x480 with 1 Axes>"
      ]
     },
     "metadata": {},
     "output_type": "display_data"
    },
    {
     "name": "stdout",
     "output_type": "stream",
     "text": [
      "Squared L2 norm ||w||^2: 659979038983.0\n",
      "Final testing error: 0.09\n"
     ]
    }
   ],
   "source": [
    "# PART (b),(c): \n",
    "# Implement the perceptron Algorithm and compute the number of mis-classified point\n",
    "N = X_train.shape[0] # Number of data point train\n",
    "N_test = X_test.shape[0] # Number of data point test\n",
    "d = X_train.shape[1] # Number of features\n",
    "loss_hist = []\n",
    "W = np.zeros((d+1,1))\n",
    "X_train_h = np.hstack((np.ones((N,1)), X_train))\n",
    "X_test_h = np.hstack((np.ones((N_test,1)), X_test))\n",
    "# ================================================================ #\n",
    "# YOUR CODE HERE:\n",
    "# complete the following code to plot both the training and test accuracy in the same plot\n",
    "# for m range from 1 to N\n",
    "# ================================================================ #\n",
    "for iter in range(N): \n",
    "\n",
    "    for i in range(N): \n",
    "        x_i = X_train_h[i].reshape(1, -1)\n",
    "        y_i = y_train[i][0]\n",
    "\n",
    "        if y_i * (x_i @ W)[0][0]<= 0:      \n",
    "            W += (y_i * x_i).T                \n",
    "\n",
    "    predictions = X_train_h @ W\n",
    "    incorrect = (y_train * predictions) < 0\n",
    "    misclassified = np.sum(incorrect)\n",
    "    loss_hist.append(misclassified / N)\n",
    "    \n",
    "plt.plot(loss_hist)\n",
    "plt.grid(True)\n",
    "plt.show()\n",
    "print(\"Squared L2 norm ||w||^2:\", np.linalg.norm(W)**2)\n",
    "\n",
    "missclassified = 0\n",
    "count = 0\n",
    "for sample, label in zip(X_test_h, y_test):\n",
    "    if label* np.dot(sample, W) < 0:\n",
    "        missclassified +=1\n",
    "    count +=1\n",
    "        \n",
    "print(\"Final testing error:\",missclassified / count)\n",
    "\n",
    "\n",
    "    \n",
    "\n",
    "\n",
    "    \n",
    "# ================================================================ #\n",
    "# END YOUR CODE HERE\n",
    "# ================================================================ #"
   ]
  },
  {
   "cell_type": "markdown",
   "id": "39fc7def",
   "metadata": {},
   "source": [
    "## Train Logistic Regression\n",
    "In the following cells, you will build a logistic regression. You will implement its loss function, then subsequently train it with gradient descent."
   ]
  },
  {
   "cell_type": "code",
   "execution_count": 30,
   "id": "4a9d5aa6",
   "metadata": {},
   "outputs": [],
   "source": [
    "from codes.Logistic import Logistic"
   ]
  },
  {
   "cell_type": "code",
   "execution_count": 35,
   "id": "b7f22319",
   "metadata": {},
   "outputs": [
    {
     "name": "stdout",
     "output_type": "stream",
     "text": [
      "Loss function= 0.6931471805599454\n",
      "188442.90860327004\n"
     ]
    }
   ],
   "source": [
    "## PART (f): \n",
    "X_train = np.load('./data/binary_classification/X_train.npy')\n",
    "y_train = np.load('./data/binary_classification/y_train.npy')\n",
    "X_test = np.load('./data/binary_classification/X_test.npy')\n",
    "y_test = np.load('./data/binary_classification/y_test.npy')\n",
    "## Complete loss_and_grad function in Logistic.py file and test your results.\n",
    "N,d = X_train.shape\n",
    "logistic = Logistic(d=d, reg_param=0)\n",
    "loss, grad = logistic.loss_and_grad(X_train,y_train)\n",
    "print('Loss function=',loss)\n",
    "print(np.linalg.norm(grad,ord=2)**2)"
   ]
  },
  {
   "cell_type": "code",
   "execution_count": 36,
   "id": "1698d8f6",
   "metadata": {},
   "outputs": [
    {
     "data": {
      "image/png": "[encoded data removed]",
      "text/plain": [
       "<Figure size 640x480 with 1 Axes>"
      ]
     },
     "metadata": {},
     "output_type": "display_data"
    },
    {
     "name": "stdout",
     "output_type": "stream",
     "text": [
      "Weight squared norm 0.000283923037886417\n",
      "Final loss 0.08003557768660216\n"
     ]
    }
   ],
   "source": [
    "## PART (g):\n",
    "## Complete train_LR function in Logisitc.py file\n",
    "loss_history, w = logistic.train_LR(X_train,y_train, eta=1e-6,batch_size=100, num_iters=5000)\n",
    "fig = plt.figure()\n",
    "plt.plot(loss_history)\n",
    "plt.xlabel('iterations')\n",
    "plt.ylabel('Loss function')\n",
    "plt.show()\n",
    "fig.savefig('./plots/LR_loss_hist.pdf')\n",
    "print('Weight squared norm',np.linalg.norm(w,ord=2)**2)\n",
    "print('Final loss',loss_history[-1])"
   ]
  },
  {
   "cell_type": "code",
   "execution_count": 43,
   "id": "e189bbb4",
   "metadata": {},
   "outputs": [
    {
     "name": "stdout",
     "output_type": "stream",
     "text": [
      "5.4 %\n"
     ]
    }
   ],
   "source": [
    "# PART (h)\n",
    "# Complete predict function in Logisitc.py file and compute the percentage of mis-classified points\n",
    "y_pred = logistic.predict(X_test)\n",
    "test_err = np.sum((y_test!=y_pred))*100/X_test.shape[0]\n",
    "print(test_err,'%')"
   ]
  },
  {
   "cell_type": "code",
   "execution_count": null,
   "id": "ed9e8d0d",
   "metadata": {},
   "outputs": [],
   "source": [
    "## PART (i): \n",
    "Batch = [1, 50 , 100, 200, 300]\n",
    "test_err = np.zeros((len(Batch),1))\n",
    "# ================================================================ #\n",
    "# YOUR CODE HERE:\n",
    "# Train the Logistic regression for different batch size. Avergae the test error over 10 times\n",
    "# ================================================================ #\n",
    "num_trials = 10\n",
    "eta = 1e-5\n",
    "for idx, b in enumerate(Batch):\n",
    "    errs = []\n",
    "    num_iters = 6000 // b\n",
    "    for _ in range(num_trials):\n",
    "        model = Logistic(d=X_train.shape[1], reg_param=0)\n",
    "        model.train_LR(X_train, y_train, eta=eta, batch_size=b, num_iters=num_iters)\n",
    "        y_pred = model.predict(X_test)\n",
    "        err = np.sum(y_test != y_pred) * 100 / X_test.shape[0]\n",
    "        errs.append(err)\n",
    "    test_err[idx] = np.mean(errs)\n",
    "# ================================================================ #\n",
    "# END YOUR CODE HERE\n",
    "# ================================================================ #\n",
    "fig = plt.figure()\n",
    "plt.plot(Batch,test_err)\n",
    "plt.xlabel('Batch_size')\n",
    "plt.ylabel('Test_error')\n",
    "plt.show()\n",
    "fig.savefig('./plots/LR_Batch_test.pdf')"
   ]
  },
  {
   "cell_type": "markdown",
   "id": "c8b02faa",
   "metadata": {},
   "source": [
    "# Problem 5: Linear Regression\n",
    "Please follow our instructions in the same order to solve the linear regresssion problem.\n",
    "\n",
    "Please print out the entire results and codes when completed."
   ]
  },
  {
   "cell_type": "code",
   "execution_count": null,
   "id": "f58463ae",
   "metadata": {},
   "outputs": [],
   "source": [
    "def get_data():\n",
    "    \"\"\"\n",
    "    Load the dataset from disk and perform preprocessing to prepare it for the linear regression problem.   \n",
    "    \"\"\"\n",
    "    X_train, y_train = load('./data/regression/regression_train.csv')\n",
    "    X_test, y_test = load('./data/regression/regression_test.csv')\n",
    "    return X_train, y_train, X_test, y_test\n",
    "\n",
    "X_train, y_train, X_test, y_test= get_data()  \n",
    "\n",
    "\n",
    "print('Train data shape: ', X_train.shape)\n",
    "print('Train target shape: ', y_train.shape)\n",
    "print('Test data shape: ',X_test.shape)\n",
    "print('Test target shape: ',y_test.shape)"
   ]
  },
  {
   "cell_type": "code",
   "execution_count": null,
   "id": "dd86d6ee",
   "metadata": {},
   "outputs": [],
   "source": [
    "## PART (a): \n",
    "## Plot the training and test data ##\n",
    "\n",
    "plt.plot(X_train, y_train,'o', color='black')\n",
    "plt.plot(X_test, y_test,'o', color='blue')\n",
    "plt.xlabel('Train data')\n",
    "plt.ylabel('Target')\n",
    "plt.show()"
   ]
  },
  {
   "cell_type": "markdown",
   "id": "f811ca3b",
   "metadata": {},
   "source": [
    "## Training Linear Regression\n",
    "In the following cells, you will build a linear regression. You will implement its loss function, then subsequently train it with gradient descent. You will choose the learning rate of gradient descent to optimize its classification performance. Finally, you will get the opimal solution using closed form expression."
   ]
  },
  {
   "cell_type": "code",
   "execution_count": null,
   "id": "15b2f9e7",
   "metadata": {},
   "outputs": [],
   "source": [
    "from codes.Regression import Regression"
   ]
  },
  {
   "cell_type": "code",
   "execution_count": null,
   "id": "b1342f60",
   "metadata": {},
   "outputs": [],
   "source": [
    "## PART (c): \n",
    "## Complete loss_and_grad function in Regression.py file and test your results.\n",
    "regression = Regression(m=1, reg_param=0)\n",
    "loss, grad = regression.loss_and_grad(X_train,y_train)\n",
    "print('Loss value',loss)\n",
    "print('Gradient value',grad)\n",
    "##"
   ]
  },
  {
   "cell_type": "code",
   "execution_count": null,
   "id": "f5d3fde2",
   "metadata": {},
   "outputs": [],
   "source": [
    "## PART (d): \n",
    "## Complete train_LR function in Regression.py file \n",
    "loss_history, w = regression.train_LR(X_train,y_train, eta=1e-3,batch_size=30, num_iters=10000)\n",
    "plt.plot(loss_history)\n",
    "plt.xlabel('iterations')\n",
    "plt.ylabel('Loss function')\n",
    "plt.show()\n",
    "print(w)\n",
    "print('Final loss:',loss_history[-1])"
   ]
  },
  {
   "cell_type": "code",
   "execution_count": null,
   "id": "44c37de4",
   "metadata": {},
   "outputs": [],
   "source": [
    "## PART (d) (Different Learning Rates):\n",
    "from numpy.linalg import norm\n",
    "lrs = [1e-1, 1e-2, 1e-3, 1e-4]\n",
    "test_err = np.zeros((len(lrs),1))\n",
    "# ================================================================ #\n",
    "# YOUR CODE HERE:\n",
    "# Train the Logistic regression for different learning rates and average the test error over 10 times\n",
    "# ================================================================ #\n",
    "\n",
    "# ================================================================ #\n",
    "# END YOUR CODE HERE\n",
    "# ================================================================ #\n",
    "fig = plt.figure()\n",
    "plt.plot(lrs,test_err)\n",
    "plt.xlabel('Learning Rate')\n",
    "plt.ylabel('Test_error')\n",
    "plt.show()\n",
    "fig.savefig('./plots/LR_Batch_test.pdf')"
   ]
  },
  {
   "cell_type": "code",
   "execution_count": null,
   "id": "a89a015f",
   "metadata": {},
   "outputs": [],
   "source": [
    "## PART (e): \n",
    "## Complete closed_form function in Regression.py file\n",
    "loss_2, w_2 = regression.closed_form(X_train, y_train)\n",
    "print('Optimal solution loss',loss_2)\n",
    "print('Optimal solution gradient',w_2)"
   ]
  },
  {
   "cell_type": "code",
   "execution_count": null,
   "id": "5851b01c",
   "metadata": {},
   "outputs": [],
   "source": [
    "## PART (g): \n",
    "train_loss=np.zeros((10,1))\n",
    "test_loss=np.zeros((10,1))\n",
    "# ================================================================ #\n",
    "# YOUR CODE HERE:\n",
    "# complete the following code to plot both the training and test loss in the same plot\n",
    "# for m range from 1 to 10\n",
    "# ================================================================ #\n",
    "\n",
    "# ================================================================ #\n",
    "# END YOUR CODE HERE\n",
    "# ================================================================ #\n",
    "plt.plot(train_loss)\n",
    "plt.plot(test_loss, color='black')\n",
    "plt.show()"
   ]
  },
  {
   "cell_type": "code",
   "execution_count": null,
   "id": "b464abca",
   "metadata": {},
   "outputs": [],
   "source": [
    "#PART (i): \n",
    "train_loss=np.zeros((10,1))\n",
    "test_loss=np.zeros((10,1))\n",
    "# ================================================================ #\n",
    "# YOUR CODE HERE:\n",
    "# complete the following code to plot both the training and test loss in the same plot\n",
    "# for m range from 1 to 10\n",
    "# ================================================================ #\n",
    "\n",
    "# ================================================================ #\n",
    "# END YOUR CODE HERE\n",
    "# ================================================================ #\n",
    "\n",
    "plt.plot(train_loss)\n",
    "plt.plot(test_loss, color='black')\n",
    "plt.show()"
   ]
  }
 ],
 "metadata": {
  "kernelspec": {
   "display_name": "ece-m146-env",
   "language": "python",
   "name": "python3"
  },
  "language_info": {
   "codemirror_mode": {
    "name": "ipython",
    "version": 3
   },
   "file_extension": ".py",
   "mimetype": "text/x-python",
   "name": "python",
   "nbconvert_exporter": "python",
   "pygments_lexer": "ipython3",
   "version": "3.11.4"
  }
 },
 "nbformat": 4,
 "nbformat_minor": 5
}
